{
  "nbformat": 4,
  "nbformat_minor": 0,
  "metadata": {
    "colab": {
      "name": "handwriting_CNN.ipynb",
      "provenance": [],
      "collapsed_sections": [],
      "authorship_tag": "ABX9TyNHw3WkPo0p1oZgg0gQH2Ll",
      "include_colab_link": true
    },
    "kernelspec": {
      "name": "python3",
      "display_name": "Python 3"
    },
    "language_info": {
      "name": "python"
    },
    "accelerator": "GPU"
  },
  "cells": [
    {
      "cell_type": "markdown",
      "metadata": {
        "id": "view-in-github",
        "colab_type": "text"
      },
      "source": [
        "<a href=\"https://colab.research.google.com/github/msappington11/sudoku-solver/blob/master/handwriting_CNN.ipynb\" target=\"_parent\"><img src=\"https://colab.research.google.com/assets/colab-badge.svg\" alt=\"Open In Colab\"/></a>"
      ]
    },
    {
      "cell_type": "code",
      "metadata": {
        "id": "1s4Qz15sBn1I"
      },
      "source": [
        "%tensorflow_version 2.x\n",
        "import tensorflow as tf\n",
        "from tensorflow import keras\n",
        "from tensorflow.keras import models, layers\n",
        "import numpy as np\n",
        "import cv2\n",
        "from google.colab import drive\n",
        "import pathlib\n",
        "import matplotlib.pyplot as plt\n",
        "#from skimage.morphology import skeletonize, thin"
      ],
      "execution_count": null,
      "outputs": []
    },
    {
      "cell_type": "code",
      "metadata": {
        "colab": {
          "base_uri": "https://localhost:8080/"
        },
        "id": "2oFKCMY4Z5Dr",
        "outputId": "942571e4-907f-4407-f0bd-2c40d9135079"
      },
      "source": [
        "drive.mount('/content/drive', force_remount=True)\n",
        "data_dir = pathlib.Path('/content/drive/MyDrive/letter samples')"
      ],
      "execution_count": null,
      "outputs": [
        {
          "output_type": "stream",
          "text": [
            "Mounted at /content/drive\n"
          ],
          "name": "stdout"
        }
      ]
    },
    {
      "cell_type": "code",
      "metadata": {
        "colab": {
          "base_uri": "https://localhost:8080/"
        },
        "id": "kpvgskIDaAbA",
        "outputId": "5bb25aae-7ae4-43a4-cb24-47fceaf5adf6"
      },
      "source": [
        "# trying to load my own data so its more consitent (doesnt work)\n",
        "trainOnes = tf.keras.preprocessing.image_dataset_from_directory(\n",
        "  data_dir, # input data\n",
        "  validation_split=0.2, # 20% validation, 10% test\n",
        "  subset=\"training\",\n",
        "  seed=123, # optional randomizer value\n",
        "  image_size=(28, 28),\n",
        "  color_mode='grayscale')\n",
        "\n",
        "testOnes = tf.keras.preprocessing.image_dataset_from_directory(\n",
        "  data_dir, # input data\n",
        "  validation_split=0.2, # 20% validation\n",
        "  subset=\"validation\",\n",
        "  seed=123, # optional randomizer value\n",
        "  image_size=(28, 28),\n",
        "  color_mode='grayscale')"
      ],
      "execution_count": null,
      "outputs": [
        {
          "output_type": "stream",
          "text": [
            "Found 175 files belonging to 1 classes.\n",
            "Using 140 files for training.\n",
            "Found 175 files belonging to 1 classes.\n",
            "Using 35 files for validation.\n"
          ],
          "name": "stdout"
        }
      ]
    },
    {
      "cell_type": "code",
      "metadata": {
        "id": "e0XMa8CdBvlq",
        "colab": {
          "base_uri": "https://localhost:8080/"
        },
        "outputId": "4b995bee-708b-4731-a585-eeb01da1ad27"
      },
      "source": [
        "# loads data\n",
        "tf.keras.datasets.mnist.load_data(path='mnist.npz')\n",
        "(trainData, trainLabels), (testData, testLabels) = tf.keras.datasets.mnist.load_data()"
      ],
      "execution_count": null,
      "outputs": [
        {
          "output_type": "stream",
          "text": [
            "Downloading data from https://storage.googleapis.com/tensorflow/tf-keras-datasets/mnist.npz\n",
            "11493376/11490434 [==============================] - 0s 0us/step\n"
          ],
          "name": "stdout"
        }
      ]
    },
    {
      "cell_type": "code",
      "metadata": {
        "id": "O98RYGDSyvzR"
      },
      "source": [
        "# gets rid of all the 0s since we dont need them\n",
        "trainData = trainData[trainLabels != 0]\n",
        "trainLabels = trainLabels[trainLabels != 0]\n",
        "testData = testData[testLabels != 0]\n",
        "testLabels = testLabels[testLabels != 0]"
      ],
      "execution_count": null,
      "outputs": []
    },
    {
      "cell_type": "code",
      "metadata": {
        "id": "3SzZFryzBxnv"
      },
      "source": [
        "# makes images either a 0 or 1\n",
        "thinning = lambda x: thin(x)\n",
        "trainData = (trainData/255.0 + 0.9) \n",
        "trainData = trainData.astype(np.uint8)\n",
        "#trainData = np.array([thinning(i) for i in trainData])\n",
        "\n",
        "testData = (testData/255.0 + 0.9)\n",
        "testData = testData.astype(np.uint8)\n",
        "#testData = np.array([thinning(i) for i in testData])"
      ],
      "execution_count": null,
      "outputs": []
    },
    {
      "cell_type": "code",
      "metadata": {
        "colab": {
          "base_uri": "https://localhost:8080/",
          "height": 283
        },
        "id": "mq1l5avSu5yC",
        "outputId": "691333e9-456d-4f2c-988a-067c70590707"
      },
      "source": [
        "plt.imshow(trainData[6])"
      ],
      "execution_count": null,
      "outputs": [
        {
          "output_type": "execute_result",
          "data": {
            "text/plain": [
              "<matplotlib.image.AxesImage at 0x7f56fb13ef50>"
            ]
          },
          "metadata": {
            "tags": []
          },
          "execution_count": 15
        },
        {
          "output_type": "display_data",
          "data": {
            "image/png": "[encoded data removed]",
            "text/plain": [
              "<Figure size 432x288 with 1 Axes>"
            ]
          },
          "metadata": {
            "tags": [],
            "needs_background": "light"
          }
        }
      ]
    },
    {
      "cell_type": "code",
      "metadata": {
        "id": "jTNZ53VOulGQ",
        "colab": {
          "base_uri": "https://localhost:8080/",
          "height": 265
        },
        "outputId": "960dbd38-2f6d-416e-bf09-b1fdfc99cae3"
      },
      "source": [
        "# formats images into the correct form for NN (converts to int since thin converts to bool and NN needs the pixel to be its own array)\n",
        "trainData = trainData.astype(np.uint8)\n",
        "plt.imshow(trainData[0])\n",
        "trainData = trainData[..., np.newaxis]\n",
        "testData = testData.astype(np.uint8)\n",
        "testData = testData[..., np.newaxis]"
      ],
      "execution_count": null,
      "outputs": [
        {
          "output_type": "display_data",
          "data": {
            "image/png": "[encoded data removed]",
            "text/plain": [
              "<Figure size 432x288 with 1 Axes>"
            ]
          },
          "metadata": {
            "tags": [],
            "needs_background": "light"
          }
        }
      ]
    },
    {
      "cell_type": "code",
      "metadata": {
        "id": "O2Edq_ezCj9Y"
      },
      "source": [
        "# augments data\n",
        "datagen = tf.keras.preprocessing.image.ImageDataGenerator(\n",
        "    rotation_range=20,\n",
        "    width_shift_range=3,\n",
        "    height_shift_range=3,\n",
        "    zoom_range=0.2)"
      ],
      "execution_count": null,
      "outputs": []
    },
    {
      "cell_type": "code",
      "metadata": {
        "id": "ut4S-0poy2gm",
        "colab": {
          "base_uri": "https://localhost:8080/",
          "height": 265
        },
        "outputId": "2b5023b8-5a53-476b-e0b3-5f9a78f13840"
      },
      "source": [
        "\"OPTIONAL\"\n",
        "# creates a test image from the first image from the train data and formats it to be the correct format for the datagen since it expects a whole dataset (1, 28, 28, 1)\n",
        "testImage = trainData[0]\n",
        "plt.imshow(np.squeeze(testImage))\n",
        "testImage = testImage[np.newaxis, ...]"
      ],
      "execution_count": null,
      "outputs": [
        {
          "output_type": "display_data",
          "data": {
            "image/png": "[encoded data removed]",
            "text/plain": [
              "<Figure size 432x288 with 1 Axes>"
            ]
          },
          "metadata": {
            "tags": [],
            "needs_background": "light"
          }
        }
      ]
    },
    {
      "cell_type": "code",
      "metadata": {
        "colab": {
          "base_uri": "https://localhost:8080/",
          "height": 1000
        },
        "id": "6AU9DHJrYNux",
        "outputId": "d045beac-0e03-48ef-eeca-c5d78f8a5f86"
      },
      "source": [
        "\"OPTIONAL\"\n",
        "# runs through some data augmentations for the test image to see what it does\n",
        "i = 0\n",
        "\n",
        "for new in datagen.flow(testImage):\n",
        "  new = np.squeeze(new, axis=0)\n",
        "  new = np.squeeze(new)\n",
        "  new = new + 0.5\n",
        "  new = new.astype(np.uint8)\n",
        "  #new = thin(new)\n",
        "  new = new.astype(np.uint8)\n",
        "  plt.figure(i)\n",
        "\n",
        "  plt.imshow(new)\n",
        "  i+=1\n",
        "  if(i>4):\n",
        "    break"
      ],
      "execution_count": null,
      "outputs": [
        {
          "output_type": "display_data",
          "data": {
            "image/png": "[encoded data removed]",
            "text/plain": [
              "<Figure size 432x288 with 1 Axes>"
            ]
          },
          "metadata": {
            "tags": [],
            "needs_background": "light"
          }
        },
        {
          "output_type": "display_data",
          "data": {
            "image/png": "[encoded data removed]",
            "text/plain": [
              "<Figure size 432x288 with 1 Axes>"
            ]
          },
          "metadata": {
            "tags": [],
            "needs_background": "light"
          }
        },
        {
          "output_type": "display_data",
          "data": {
            "image/png": "[encoded data removed]",
            "text/plain": [
              "<Figure size 432x288 with 1 Axes>"
            ]
          },
          "metadata": {
            "tags": [],
            "needs_background": "light"
          }
        },
        {
          "output_type": "display_data",
          "data": {
            "image/png": "[encoded data removed]",
            "text/plain": [
              "<Figure size 432x288 with 1 Axes>"
            ]
          },
          "metadata": {
            "tags": [],
            "needs_background": "light"
          }
        },
        {
          "output_type": "display_data",
          "data": {
            "image/png": "[encoded data removed]",
            "text/plain": [
              "<Figure size 432x288 with 1 Axes>"
            ]
          },
          "metadata": {
            "tags": [],
            "needs_background": "light"
          }
        }
      ]
    },
    {
      "cell_type": "code",
      "metadata": {
        "colab": {
          "base_uri": "https://localhost:8080/"
        },
        "id": "lc1Q8eTdqaj-",
        "outputId": "27a93ea5-3aa6-4975-f3fa-bfd8ab90176d"
      },
      "source": [
        "print(np.shape(trainData))\n",
        "print(np.squeeze(trainData[0]))"
      ],
      "execution_count": null,
      "outputs": [
        {
          "output_type": "stream",
          "text": [
            "(54077, 28, 28, 1)\n",
            "[[0 0 0 0 0 0 0 0 0 0 0 0 0 0 0 0 0 0 0 0 0 0 0 0 0 0 0 0]\n",
            " [0 0 0 0 0 0 0 0 0 0 0 0 0 0 0 0 0 0 0 0 0 0 0 0 0 0 0 0]\n",
            " [0 0 0 0 0 0 0 0 0 0 0 0 0 0 0 0 0 0 0 0 0 0 0 0 0 0 0 0]\n",
            " [0 0 0 0 0 0 0 0 0 0 0 0 0 0 0 0 0 0 0 0 0 0 0 0 0 0 0 0]\n",
            " [0 0 0 0 0 0 0 0 0 0 0 0 0 0 0 0 0 0 0 0 0 0 0 0 0 0 0 0]\n",
            " [0 0 0 0 0 0 0 0 0 0 0 0 0 0 0 0 1 1 1 1 1 1 1 1 0 0 0 0]\n",
            " [0 0 0 0 0 0 0 0 1 1 1 1 1 1 1 1 1 1 1 1 1 1 1 1 0 0 0 0]\n",
            " [0 0 0 0 0 0 0 1 1 1 1 1 1 1 1 1 1 1 1 1 1 1 1 0 0 0 0 0]\n",
            " [0 0 0 0 0 0 0 0 1 1 1 1 1 1 1 1 1 1 0 0 0 0 0 0 0 0 0 0]\n",
            " [0 0 0 0 0 0 0 0 1 1 1 1 1 1 0 0 1 1 0 0 0 0 0 0 0 0 0 0]\n",
            " [0 0 0 0 0 0 0 0 0 0 0 1 1 1 0 0 0 0 0 0 0 0 0 0 0 0 0 0]\n",
            " [0 0 0 0 0 0 0 0 0 0 0 1 1 1 0 0 0 0 0 0 0 0 0 0 0 0 0 0]\n",
            " [0 0 0 0 0 0 0 0 0 0 0 0 1 1 1 0 0 0 0 0 0 0 0 0 0 0 0 0]\n",
            " [0 0 0 0 0 0 0 0 0 0 0 0 1 1 1 1 1 0 0 0 0 0 0 0 0 0 0 0]\n",
            " [0 0 0 0 0 0 0 0 0 0 0 0 0 1 1 1 1 1 0 0 0 0 0 0 0 0 0 0]\n",
            " [0 0 0 0 0 0 0 0 0 0 0 0 0 0 1 1 1 1 1 1 0 0 0 0 0 0 0 0]\n",
            " [0 0 0 0 0 0 0 0 0 0 0 0 0 0 0 0 1 1 1 1 0 0 0 0 0 0 0 0]\n",
            " [0 0 0 0 0 0 0 0 0 0 0 0 0 0 0 0 0 1 1 1 1 0 0 0 0 0 0 0]\n",
            " [0 0 0 0 0 0 0 0 0 0 0 0 0 0 1 1 1 1 1 1 0 0 0 0 0 0 0 0]\n",
            " [0 0 0 0 0 0 0 0 0 0 0 0 1 1 1 1 1 1 1 1 0 0 0 0 0 0 0 0]\n",
            " [0 0 0 0 0 0 0 0 0 0 0 1 1 1 1 1 1 1 1 0 0 0 0 0 0 0 0 0]\n",
            " [0 0 0 0 0 0 0 0 0 1 1 1 1 1 1 1 1 0 0 0 0 0 0 0 0 0 0 0]\n",
            " [0 0 0 0 0 0 0 1 1 1 1 1 1 1 1 0 0 0 0 0 0 0 0 0 0 0 0 0]\n",
            " [0 0 0 0 1 1 1 1 1 1 1 1 1 0 0 0 0 0 0 0 0 0 0 0 0 0 0 0]\n",
            " [0 0 0 0 1 1 1 1 1 1 1 0 0 0 0 0 0 0 0 0 0 0 0 0 0 0 0 0]\n",
            " [0 0 0 0 0 0 0 0 0 0 0 0 0 0 0 0 0 0 0 0 0 0 0 0 0 0 0 0]\n",
            " [0 0 0 0 0 0 0 0 0 0 0 0 0 0 0 0 0 0 0 0 0 0 0 0 0 0 0 0]\n",
            " [0 0 0 0 0 0 0 0 0 0 0 0 0 0 0 0 0 0 0 0 0 0 0 0 0 0 0 0]]\n"
          ],
          "name": "stdout"
        }
      ]
    },
    {
      "cell_type": "code",
      "metadata": {
        "id": "Zv9SrBXAB7LH"
      },
      "source": [
        "model = models.Sequential()\n",
        "model.add(layers.Conv2D(32, (5, 5), activation='relu', input_shape=(28, 28, 1))) # first layer. 32 filters in 3x3 size. input shape must be given (image is 28x28x1)\n",
        "model.add(layers.MaxPooling2D((2, 2))) # pools data from 2x2 area with stride of 2 (no overlap for pooling)\n",
        "model.add(layers.Conv2D(128, (5, 5), activation='relu')) # another layer with 64 filters in 3x3 area\n",
        "model.add(layers.Flatten())\n",
        "model.add(layers.Dense(64, activation='relu')) # 64 nodes\n",
        "model.add(layers.Dense(10)) # 10 is number of outputs"
      ],
      "execution_count": null,
      "outputs": []
    },
    {
      "cell_type": "code",
      "metadata": {
        "colab": {
          "base_uri": "https://localhost:8080/"
        },
        "id": "Hz5DkYp3C46v",
        "outputId": "e5671ab8-a1a4-46b1-9b9f-28751d501069"
      },
      "source": [
        "model.summary()"
      ],
      "execution_count": null,
      "outputs": [
        {
          "output_type": "stream",
          "text": [
            "Model: \"sequential\"\n",
            "_________________________________________________________________\n",
            "Layer (type)                 Output Shape              Param #   \n",
            "=================================================================\n",
            "conv2d (Conv2D)              (None, 24, 24, 32)        832       \n",
            "_________________________________________________________________\n",
            "max_pooling2d (MaxPooling2D) (None, 12, 12, 32)        0         \n",
            "_________________________________________________________________\n",
            "conv2d_1 (Conv2D)            (None, 8, 8, 128)         102528    \n",
            "_________________________________________________________________\n",
            "flatten (Flatten)            (None, 8192)              0         \n",
            "_________________________________________________________________\n",
            "dense (Dense)                (None, 64)                524352    \n",
            "_________________________________________________________________\n",
            "dense_1 (Dense)              (None, 10)                650       \n",
            "=================================================================\n",
            "Total params: 628,362\n",
            "Trainable params: 628,362\n",
            "Non-trainable params: 0\n",
            "_________________________________________________________________\n"
          ],
          "name": "stdout"
        }
      ]
    },
    {
      "cell_type": "code",
      "metadata": {
        "colab": {
          "base_uri": "https://localhost:8080/"
        },
        "id": "r4UlZOJwDROC",
        "outputId": "6865887b-7b95-477a-b518-b11b355d5410"
      },
      "source": [
        "model.compile(optimizer='adam',\n",
        "              loss=tf.keras.losses.SparseCategoricalCrossentropy(from_logits=True),\n",
        "              metrics=['accuracy'])\n",
        "\n",
        "history = model.fit(datagen.flow(trainData, trainLabels), epochs=10, validation_data=datagen.flow(testData, testLabels))\n"
      ],
      "execution_count": null,
      "outputs": [
        {
          "output_type": "stream",
          "text": [
            "Epoch 1/10\n",
            "1690/1690 [==============================] - 24s 14ms/step - loss: 0.2593 - accuracy: 0.9167 - val_loss: 0.1009 - val_accuracy: 0.9684\n",
            "Epoch 2/10\n",
            "1690/1690 [==============================] - 22s 13ms/step - loss: 0.1060 - accuracy: 0.9664 - val_loss: 0.0779 - val_accuracy: 0.9769\n",
            "Epoch 3/10\n",
            "1690/1690 [==============================] - 23s 14ms/step - loss: 0.0842 - accuracy: 0.9735 - val_loss: 0.0699 - val_accuracy: 0.9771\n",
            "Epoch 4/10\n",
            "1690/1690 [==============================] - 23s 14ms/step - loss: 0.0738 - accuracy: 0.9762 - val_loss: 0.0580 - val_accuracy: 0.9809\n",
            "Epoch 5/10\n",
            "1690/1690 [==============================] - 21s 13ms/step - loss: 0.0650 - accuracy: 0.9797 - val_loss: 0.0533 - val_accuracy: 0.9820\n",
            "Epoch 6/10\n",
            "1690/1690 [==============================] - 23s 14ms/step - loss: 0.0586 - accuracy: 0.9816 - val_loss: 0.0528 - val_accuracy: 0.9836\n",
            "Epoch 7/10\n",
            "1690/1690 [==============================] - 24s 14ms/step - loss: 0.0547 - accuracy: 0.9825 - val_loss: 0.0476 - val_accuracy: 0.9838\n",
            "Epoch 8/10\n",
            "1690/1690 [==============================] - 24s 14ms/step - loss: 0.0521 - accuracy: 0.9837 - val_loss: 0.0442 - val_accuracy: 0.9857\n",
            "Epoch 9/10\n",
            "1690/1690 [==============================] - 22s 13ms/step - loss: 0.0483 - accuracy: 0.9849 - val_loss: 0.0526 - val_accuracy: 0.9846\n",
            "Epoch 10/10\n",
            "1690/1690 [==============================] - 22s 13ms/step - loss: 0.0458 - accuracy: 0.9854 - val_loss: 0.0458 - val_accuracy: 0.9856\n"
          ],
          "name": "stdout"
        }
      ]
    },
    {
      "cell_type": "code",
      "metadata": {
        "colab": {
          "base_uri": "https://localhost:8080/"
        },
        "id": "Vnny2KWUzYsI",
        "outputId": "55dd9f40-2e96-41db-a2eb-2bf78501809f"
      },
      "source": [
        "test_loss, test_acc = model.evaluate(testData,  testLabels, verbose=2)\n",
        "print(test_acc)"
      ],
      "execution_count": null,
      "outputs": [
        {
          "output_type": "stream",
          "text": [
            "282/282 - 1s - loss: 0.0337 - accuracy: 0.9906\n",
            "0.9905765056610107\n"
          ],
          "name": "stdout"
        }
      ]
    },
    {
      "cell_type": "code",
      "metadata": {
        "colab": {
          "base_uri": "https://localhost:8080/"
        },
        "id": "6siXaxOfzlFV",
        "outputId": "8078b51c-0e89-4645-9bc4-f3f9ff735473"
      },
      "source": [
        "values = [2, 3, 6, 7, 9, 2, 9, 7, 3, 4, 7, 8, 6, 4, 2, 1, 7, 1, 6, 7, 6, 1, 1, 8, 3, 7, 5, 1]\n",
        "predictions = []\n",
        "squares = []\n",
        "for i in range(28):\n",
        "  square = cv2.imread('/content/drive/MyDrive/thick/image{}.png'.format(i))\n",
        "  square = cv2.cvtColor(square, cv2.COLOR_BGR2GRAY)\n",
        "  square = square/255.0\n",
        "  square = square.astype(np.uint8)\n",
        "  #square = thin(square)\n",
        "  squares.append(square)\n",
        "  square = square[..., np.newaxis]\n",
        "  predict = model.predict(square[np.newaxis, ...])\n",
        "  classes = [0, 1, 2, 3, 4, 5, 6, 7, 8, 9]\n",
        "  predictions.append(classes[np.argmax(predict)])\n",
        "\n",
        "print(predictions)\n",
        "print(values)\n",
        "correct = 0\n",
        "for i in range(len(values)):\n",
        "  if(values[i] == predictions[i]):\n",
        "    correct += 1\n",
        "  else:\n",
        "    print('thought:', values[i], 'was', predictions[i])\n",
        "print('accuracy:', correct/len(values))"
      ],
      "execution_count": null,
      "outputs": [
        {
          "output_type": "stream",
          "text": [
            "[2, 3, 6, 7, 9, 2, 9, 7, 3, 4, 7, 8, 6, 4, 2, 1, 7, 1, 6, 7, 6, 1, 1, 8, 3, 7, 5, 1]\n",
            "[2, 3, 6, 7, 9, 2, 9, 7, 3, 4, 7, 8, 6, 4, 2, 1, 7, 1, 6, 7, 6, 1, 1, 8, 3, 7, 5, 1]\n",
            "accuracy: 1.0\n"
          ],
          "name": "stdout"
        }
      ]
    },
    {
      "cell_type": "code",
      "metadata": {
        "colab": {
          "base_uri": "https://localhost:8080/",
          "height": 283
        },
        "id": "KG6f1cmVwoN1",
        "outputId": "9c7afb6a-996a-449e-f4af-a38eaa38fcb0"
      },
      "source": [
        "plt.imshow(squares[4])"
      ],
      "execution_count": null,
      "outputs": [
        {
          "output_type": "execute_result",
          "data": {
            "text/plain": [
              "<matplotlib.image.AxesImage at 0x7f56fbfccc90>"
            ]
          },
          "metadata": {
            "tags": []
          },
          "execution_count": 34
        },
        {
          "output_type": "display_data",
          "data": {
            "image/png": "[encoded data removed]",
            "text/plain": [
              "<Figure size 432x288 with 1 Axes>"
            ]
          },
          "metadata": {
            "tags": [],
            "needs_background": "light"
          }
        }
      ]
    },
    {
      "cell_type": "code",
      "metadata": {
        "colab": {
          "base_uri": "https://localhost:8080/"
        },
        "id": "SDiFxk3ep3_B",
        "outputId": "fd691a0b-2f58-4465-c79b-f2b0d3c71fcd"
      },
      "source": [
        "model.save('/content/drive/MyDrive/models/model')"
      ],
      "execution_count": null,
      "outputs": [
        {
          "output_type": "stream",
          "text": [
            "INFO:tensorflow:Assets written to: /content/drive/MyDrive/models/POGGERS3/assets\n"
          ],
          "name": "stdout"
        }
      ]
    }
  ]
}